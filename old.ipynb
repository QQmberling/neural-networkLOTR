{
  "nbformat": 4,
  "nbformat_minor": 0,
  "metadata": {
    "colab": {
      "name": "Pershin (1).ipynb",
      "provenance": [],
      "collapsed_sections": [
        "wv_ZD6KGowXV",
        "r1bIcQz1DtDG"
      ],
      "toc_visible": true,
      "include_colab_link": true
    },
    "kernelspec": {
      "name": "python3",
      "display_name": "Python 3"
    },
    "language_info": {
      "name": "python"
    }
  },
  "cells": [
    {
      "cell_type": "markdown",
      "metadata": {
        "id": "view-in-github",
        "colab_type": "text"
      },
      "source": [
        "<a href=\"https://colab.research.google.com/github/QQmberling/neural-networkLOTR/blob/main/old.ipynb\" target=\"_parent\"><img src=\"https://colab.research.google.com/assets/colab-badge.svg\" alt=\"Open In Colab\"/></a>"
      ]
    },
    {
      "cell_type": "markdown",
      "metadata": {
        "id": "wv_ZD6KGowXV"
      },
      "source": [
        "# Import & Mount drive & def Confusion Matrix"
      ]
    },
    {
      "cell_type": "code",
      "metadata": {
        "colab": {
          "base_uri": "https://localhost:8080/"
        },
        "id": "PmtTqWLvo3gm",
        "outputId": "f7f05a8e-541b-4c56-cb15-9480db6382d1"
      },
      "source": [
        "!pip install python-resize-image\n",
        "import keras\n",
        "from keras.models import Sequential\n",
        "from keras.layers import Conv2D, Dense, Flatten, Activation\n",
        "from keras.layers import MaxPooling2D, Dropout, BatchNormalization\n",
        "import numpy as np\n",
        "import os\n",
        "import cv2\n",
        "import matplotlib.pyplot as plt\n",
        "from keras.preprocessing.image import ImageDataGenerator\n",
        "from keras.preprocessing import image\n",
        "from PIL import Image\n",
        "from resizeimage import resizeimage\n",
        "from sklearn.metrics import classification_report, confusion_matrix\n",
        "from sklearn.metrics import accuracy_score\n",
        "from sklearn.metrics import classification_report\n",
        "import itertools\n",
        "import random\n",
        "from sklearn.preprocessing import MinMaxScaler\n",
        "from keras.utils.vis_utils import plot_model\n",
        "from IPython.display import SVG\n",
        "from keras.utils.vis_utils import model_to_dot\n",
        "from keras.models import model_from_yaml\n",
        "import time"
      ],
      "execution_count": 2,
      "outputs": [
        {
          "output_type": "stream",
          "name": "stdout",
          "text": [
            "Requirement already satisfied: python-resize-image in /usr/local/lib/python3.7/dist-packages (1.1.19)\n",
            "Requirement already satisfied: requests>=2.19.1 in /usr/local/lib/python3.7/dist-packages (from python-resize-image) (2.23.0)\n",
            "Requirement already satisfied: Pillow>=5.1.0 in /usr/local/lib/python3.7/dist-packages (from python-resize-image) (7.1.2)\n",
            "Requirement already satisfied: urllib3!=1.25.0,!=1.25.1,<1.26,>=1.21.1 in /usr/local/lib/python3.7/dist-packages (from requests>=2.19.1->python-resize-image) (1.24.3)\n",
            "Requirement already satisfied: idna<3,>=2.5 in /usr/local/lib/python3.7/dist-packages (from requests>=2.19.1->python-resize-image) (2.10)\n",
            "Requirement already satisfied: certifi>=2017.4.17 in /usr/local/lib/python3.7/dist-packages (from requests>=2.19.1->python-resize-image) (2021.5.30)\n",
            "Requirement already satisfied: chardet<4,>=3.0.2 in /usr/local/lib/python3.7/dist-packages (from requests>=2.19.1->python-resize-image) (3.0.4)\n"
          ]
        }
      ]
    },
    {
      "cell_type": "code",
      "metadata": {
        "id": "Y3ke3y4Joz6H"
      },
      "source": [
        "from google.colab import drive\n",
        "drive.mount('/content/gdrive/')\n",
        "%cd /content/gdrive/MyDrive/NeuralNetwork/Data/train/"
      ],
      "execution_count": null,
      "outputs": []
    },
    {
      "cell_type": "code",
      "metadata": {
        "id": "z2q5Fy--sZJa"
      },
      "source": [
        "def plot_confusion_matrix(cm, classes,\n",
        "                        normalize=False,\n",
        "                        title='Confusion matrix',\n",
        "                        cmap=plt.cm.Blues):\n",
        "    \"\"\"\n",
        "    This function prints and plots the confusion matrix.\n",
        "    Normalization can be applied by setting `normalize=True`.\n",
        "    \"\"\"\n",
        "    plt.imshow(cm, interpolation='nearest', cmap=cmap)\n",
        "    plt.title(title)\n",
        "    plt.colorbar()\n",
        "    tick_marks = np.arange(len(classes))\n",
        "    plt.xticks(tick_marks, classes, rotation=45)\n",
        "    plt.yticks(tick_marks, classes)\n",
        "\n",
        "    if normalize:\n",
        "        cm = cm.astype('float') / cm.sum(axis=1)[:, np.newaxis]\n",
        "        print(\"Normalized confusion matrix\")\n",
        "    else:\n",
        "        print('Confusion matrix, without normalization')\n",
        "\n",
        "\n",
        "    thresh = cm.max() / 2.\n",
        "    for i, j in itertools.product(range(cm.shape[0]), range(cm.shape[1])):\n",
        "        plt.text(j, i, cm[i, j],\n",
        "            horizontalalignment=\"center\",\n",
        "            color=\"black\" if cm[i, j] > thresh else \"black\")\n",
        "\n",
        "    plt.tight_layout()\n",
        "    plt.ylabel('True label')\n",
        "    plt.xlabel('Predicted label')"
      ],
      "execution_count": null,
      "outputs": []
    },
    {
      "cell_type": "markdown",
      "metadata": {
        "id": "sKho_oJnpvT3"
      },
      "source": [
        "# Model 1"
      ]
    },
    {
      "cell_type": "code",
      "metadata": {
        "id": "72kV7UvRow9V"
      },
      "source": [
        "epochs = 50\n",
        "batch_size = 10\n",
        "input_shape = (180, 320, 3)"
      ],
      "execution_count": null,
      "outputs": []
    },
    {
      "cell_type": "code",
      "metadata": {
        "id": "KxXbPXWBox0p"
      },
      "source": [
        "model = Sequential()\n",
        "\n",
        "model.add(Conv2D(32, (3, 3), input_shape = input_shape, activation = 'relu'))\n",
        "model.add(BatchNormalization())\n",
        "model.add(MaxPooling2D(pool_size = (2, 2)))\n",
        "model.add(Conv2D(32, (5, 5), activation = 'relu'))\n",
        "model.add(BatchNormalization())\n",
        "model.add(MaxPooling2D(pool_size = (2, 2)))\n",
        "\n",
        "model.add(Conv2D(64, (3, 3), activation = 'relu'))\n",
        "model.add(BatchNormalization())\n",
        "model.add(MaxPooling2D(pool_size = (2, 2)))\n",
        "\n",
        "model.add(Flatten())\n",
        "\n",
        "model.add(Dense(units = 128, activation = 'relu'))\n",
        "model.add(Dropout(0.1))\n",
        "model.add(Dense(units = 1, activation = 'sigmoid'))\n",
        "\n",
        "Adam = keras.optimizers.Adam(lr = 0.0001)\n",
        "model.compile(optimizer = Adam, loss = 'binary_crossentropy', metrics = ['accuracy'])"
      ],
      "execution_count": null,
      "outputs": []
    },
    {
      "cell_type": "code",
      "metadata": {
        "colab": {
          "base_uri": "https://localhost:8080/"
        },
        "id": "8hSqp7sqr5fm",
        "outputId": "8c309fda-8cb6-41f6-f4a7-20bb96bcf712"
      },
      "source": [
        "train_datagen = ImageDataGenerator(rescale=1/255,\n",
        "    shear_range=0.2,\n",
        "    zoom_range=0.2,\n",
        "    horizontal_flip=True,)\n",
        "\n",
        "train_generator = train_datagen.flow_from_directory(\n",
        "    '/content/gdrive/MyDrive/NeuralNetwork/Data/train',\n",
        "    target_size= input_shape[:2:],\n",
        "    batch_size = batch_size,\n",
        "    class_mode='binary',)\n",
        "\n",
        "test_datagen = ImageDataGenerator(rescale=1/255)\n",
        "test_set = test_datagen.flow_from_directory(\n",
        "    '/content/gdrive/MyDrive/NeuralNetwork/Data/test',\n",
        "    target_size = input_shape[:2:],\n",
        "    batch_size = batch_size,\n",
        "    class_mode = 'binary',\n",
        "    shuffle = False\n",
        "    )\n",
        "\n",
        "print(train_generator.class_indices)"
      ],
      "execution_count": null,
      "outputs": [
        {
          "output_type": "stream",
          "text": [
            "Found 224 images belonging to 2 classes.\n",
            "Found 80 images belonging to 2 classes.\n",
            "{'gandalfs': 0, 'sarumans': 1}\n"
          ],
          "name": "stdout"
        }
      ]
    },
    {
      "cell_type": "code",
      "metadata": {
        "colab": {
          "base_uri": "https://localhost:8080/"
        },
        "id": "IZsM63RMr5m9",
        "outputId": "f98611d8-c718-4ec1-b91b-78d362a72063"
      },
      "source": [
        "start_time = time.clock()\n",
        "\n",
        "model.fit(\n",
        "    train_generator,\n",
        "    steps_per_epoch = train_generator.samples // batch_size,\n",
        "    validation_data = test_set, \n",
        "    validation_steps = test_set.samples // batch_size,\n",
        "    epochs = epochs)\n",
        "\n",
        "end_time = time.clock()\n",
        "\n",
        "print(end_time - start_time, 'seconds')"
      ],
      "execution_count": null,
      "outputs": [
        {
          "output_type": "stream",
          "text": [
            "/usr/local/lib/python3.7/dist-packages/ipykernel_launcher.py:1: DeprecationWarning: time.clock has been deprecated in Python 3.3 and will be removed from Python 3.8: use time.perf_counter or time.process_time instead\n",
            "  \"\"\"Entry point for launching an IPython kernel.\n"
          ],
          "name": "stderr"
        },
        {
          "output_type": "stream",
          "text": [
            "Epoch 1/50\n",
            "22/22 [==============================] - 150s 7s/step - loss: 1.2461 - accuracy: 0.6089 - val_loss: 0.9704 - val_accuracy: 0.5000\n",
            "Epoch 2/50\n",
            "22/22 [==============================] - 37s 2s/step - loss: 0.6876 - accuracy: 0.7287 - val_loss: 1.9165 - val_accuracy: 0.5000\n",
            "Epoch 3/50\n",
            "22/22 [==============================] - 37s 2s/step - loss: 0.3006 - accuracy: 0.8631 - val_loss: 2.6860 - val_accuracy: 0.5000\n",
            "Epoch 4/50\n",
            "22/22 [==============================] - 37s 2s/step - loss: 0.3118 - accuracy: 0.8659 - val_loss: 3.6112 - val_accuracy: 0.5000\n",
            "Epoch 5/50\n",
            "22/22 [==============================] - 37s 2s/step - loss: 0.2592 - accuracy: 0.9190 - val_loss: 4.5448 - val_accuracy: 0.5000\n",
            "Epoch 6/50\n",
            "22/22 [==============================] - 37s 2s/step - loss: 0.2796 - accuracy: 0.8582 - val_loss: 5.7842 - val_accuracy: 0.5000\n",
            "Epoch 7/50\n",
            "22/22 [==============================] - 37s 2s/step - loss: 0.1782 - accuracy: 0.9262 - val_loss: 6.4717 - val_accuracy: 0.5000\n",
            "Epoch 8/50\n",
            "22/22 [==============================] - 37s 2s/step - loss: 0.1790 - accuracy: 0.9646 - val_loss: 7.1370 - val_accuracy: 0.5000\n",
            "Epoch 9/50\n",
            "22/22 [==============================] - 37s 2s/step - loss: 0.2303 - accuracy: 0.8799 - val_loss: 6.5524 - val_accuracy: 0.5000\n",
            "Epoch 10/50\n",
            "22/22 [==============================] - 37s 2s/step - loss: 0.1054 - accuracy: 0.9712 - val_loss: 6.2982 - val_accuracy: 0.5000\n",
            "Epoch 11/50\n",
            "22/22 [==============================] - 37s 2s/step - loss: 0.1743 - accuracy: 0.9263 - val_loss: 7.4189 - val_accuracy: 0.5000\n",
            "Epoch 12/50\n",
            "22/22 [==============================] - 37s 2s/step - loss: 0.1261 - accuracy: 0.9525 - val_loss: 7.1792 - val_accuracy: 0.5000\n",
            "Epoch 13/50\n",
            "22/22 [==============================] - 37s 2s/step - loss: 0.1751 - accuracy: 0.9478 - val_loss: 7.4491 - val_accuracy: 0.5000\n",
            "Epoch 14/50\n",
            "22/22 [==============================] - 37s 2s/step - loss: 0.1096 - accuracy: 0.9655 - val_loss: 7.3059 - val_accuracy: 0.5000\n",
            "Epoch 15/50\n",
            "22/22 [==============================] - 37s 2s/step - loss: 0.1244 - accuracy: 0.9551 - val_loss: 6.1481 - val_accuracy: 0.4875\n",
            "Epoch 16/50\n",
            "22/22 [==============================] - 37s 2s/step - loss: 0.1849 - accuracy: 0.9667 - val_loss: 5.3429 - val_accuracy: 0.5000\n",
            "Epoch 17/50\n",
            "22/22 [==============================] - 37s 2s/step - loss: 0.1098 - accuracy: 0.9694 - val_loss: 5.0348 - val_accuracy: 0.4875\n",
            "Epoch 18/50\n",
            "22/22 [==============================] - 37s 2s/step - loss: 0.0969 - accuracy: 0.9658 - val_loss: 3.6854 - val_accuracy: 0.5250\n",
            "Epoch 19/50\n",
            "22/22 [==============================] - 37s 2s/step - loss: 0.1052 - accuracy: 0.9560 - val_loss: 3.1224 - val_accuracy: 0.5250\n",
            "Epoch 20/50\n",
            "22/22 [==============================] - 37s 2s/step - loss: 0.0589 - accuracy: 0.9928 - val_loss: 2.9374 - val_accuracy: 0.5375\n",
            "Epoch 21/50\n",
            "22/22 [==============================] - 37s 2s/step - loss: 0.0460 - accuracy: 0.9963 - val_loss: 1.8016 - val_accuracy: 0.5875\n",
            "Epoch 22/50\n",
            "22/22 [==============================] - 37s 2s/step - loss: 0.0577 - accuracy: 0.9795 - val_loss: 1.6894 - val_accuracy: 0.6000\n",
            "Epoch 23/50\n",
            "22/22 [==============================] - 37s 2s/step - loss: 0.1009 - accuracy: 0.9774 - val_loss: 1.5253 - val_accuracy: 0.5750\n",
            "Epoch 24/50\n",
            "22/22 [==============================] - 37s 2s/step - loss: 0.0707 - accuracy: 0.9743 - val_loss: 1.4446 - val_accuracy: 0.6000\n",
            "Epoch 25/50\n",
            "22/22 [==============================] - 37s 2s/step - loss: 0.0971 - accuracy: 0.9692 - val_loss: 0.5697 - val_accuracy: 0.7625\n",
            "Epoch 26/50\n",
            "22/22 [==============================] - 37s 2s/step - loss: 0.2218 - accuracy: 0.9331 - val_loss: 0.5083 - val_accuracy: 0.8000\n",
            "Epoch 27/50\n",
            "22/22 [==============================] - 37s 2s/step - loss: 0.0617 - accuracy: 0.9839 - val_loss: 0.3491 - val_accuracy: 0.8625\n",
            "Epoch 28/50\n",
            "22/22 [==============================] - 37s 2s/step - loss: 0.0448 - accuracy: 0.9724 - val_loss: 0.3376 - val_accuracy: 0.8750\n",
            "Epoch 29/50\n",
            "22/22 [==============================] - 37s 2s/step - loss: 0.0208 - accuracy: 0.9936 - val_loss: 0.5789 - val_accuracy: 0.8125\n",
            "Epoch 30/50\n",
            "22/22 [==============================] - 37s 2s/step - loss: 0.1007 - accuracy: 0.9835 - val_loss: 0.4494 - val_accuracy: 0.8750\n",
            "Epoch 31/50\n",
            "22/22 [==============================] - 37s 2s/step - loss: 0.0730 - accuracy: 0.9819 - val_loss: 0.5769 - val_accuracy: 0.7750\n",
            "Epoch 32/50\n",
            "22/22 [==============================] - 37s 2s/step - loss: 0.1015 - accuracy: 0.9486 - val_loss: 0.3676 - val_accuracy: 0.8250\n",
            "Epoch 33/50\n",
            "22/22 [==============================] - 37s 2s/step - loss: 0.0563 - accuracy: 0.9732 - val_loss: 0.2879 - val_accuracy: 0.8875\n",
            "Epoch 34/50\n",
            "22/22 [==============================] - 37s 2s/step - loss: 0.0336 - accuracy: 0.9862 - val_loss: 0.4739 - val_accuracy: 0.8250\n",
            "Epoch 35/50\n",
            "22/22 [==============================] - 37s 2s/step - loss: 0.0383 - accuracy: 0.9867 - val_loss: 0.3594 - val_accuracy: 0.8625\n",
            "Epoch 36/50\n",
            "22/22 [==============================] - 37s 2s/step - loss: 0.0170 - accuracy: 0.9972 - val_loss: 0.4741 - val_accuracy: 0.8375\n",
            "Epoch 37/50\n",
            "22/22 [==============================] - 37s 2s/step - loss: 0.0261 - accuracy: 0.9960 - val_loss: 0.3852 - val_accuracy: 0.9000\n",
            "Epoch 38/50\n",
            "22/22 [==============================] - 37s 2s/step - loss: 0.0423 - accuracy: 0.9806 - val_loss: 0.3102 - val_accuracy: 0.8875\n",
            "Epoch 39/50\n",
            "22/22 [==============================] - 37s 2s/step - loss: 0.0435 - accuracy: 0.9836 - val_loss: 0.4839 - val_accuracy: 0.8750\n",
            "Epoch 40/50\n",
            "22/22 [==============================] - 37s 2s/step - loss: 0.0203 - accuracy: 0.9927 - val_loss: 0.3896 - val_accuracy: 0.9000\n",
            "Epoch 41/50\n",
            "22/22 [==============================] - 37s 2s/step - loss: 0.1014 - accuracy: 0.9801 - val_loss: 0.4157 - val_accuracy: 0.9000\n",
            "Epoch 42/50\n",
            "22/22 [==============================] - 37s 2s/step - loss: 0.0118 - accuracy: 0.9970 - val_loss: 0.5067 - val_accuracy: 0.8875\n",
            "Epoch 43/50\n",
            "22/22 [==============================] - 37s 2s/step - loss: 0.0241 - accuracy: 0.9923 - val_loss: 0.5331 - val_accuracy: 0.8375\n",
            "Epoch 44/50\n",
            "22/22 [==============================] - 37s 2s/step - loss: 0.0174 - accuracy: 0.9897 - val_loss: 0.4725 - val_accuracy: 0.9125\n",
            "Epoch 45/50\n",
            "22/22 [==============================] - 37s 2s/step - loss: 0.0049 - accuracy: 1.0000 - val_loss: 0.4979 - val_accuracy: 0.9000\n",
            "Epoch 46/50\n",
            "22/22 [==============================] - 37s 2s/step - loss: 0.0043 - accuracy: 1.0000 - val_loss: 0.4957 - val_accuracy: 0.9000\n",
            "Epoch 47/50\n",
            "22/22 [==============================] - 37s 2s/step - loss: 0.0123 - accuracy: 1.0000 - val_loss: 0.5156 - val_accuracy: 0.9125\n",
            "Epoch 48/50\n",
            "22/22 [==============================] - 37s 2s/step - loss: 0.0033 - accuracy: 1.0000 - val_loss: 0.4815 - val_accuracy: 0.9000\n",
            "Epoch 49/50\n",
            "22/22 [==============================] - 37s 2s/step - loss: 0.0033 - accuracy: 1.0000 - val_loss: 0.4644 - val_accuracy: 0.9125\n",
            "Epoch 50/50\n",
            "22/22 [==============================] - 37s 2s/step - loss: 0.0040 - accuracy: 1.0000 - val_loss: 0.4583 - val_accuracy: 0.9000\n",
            "3383.126631 seconds\n"
          ],
          "name": "stdout"
        },
        {
          "output_type": "stream",
          "text": [
            "/usr/local/lib/python3.7/dist-packages/ipykernel_launcher.py:17: DeprecationWarning: time.clock has been deprecated in Python 3.3 and will be removed from Python 3.8: use time.perf_counter or time.process_time instead\n"
          ],
          "name": "stderr"
        }
      ]
    },
    {
      "cell_type": "code",
      "metadata": {
        "colab": {
          "base_uri": "https://localhost:8080/"
        },
        "id": "030EbFrxshvv",
        "outputId": "7455f190-37d6-4904-9735-d27a9834f720"
      },
      "source": [
        "Y_pred = model.predict(test_set, steps = test_set.samples // batch_size)\n",
        "y_pred = np.round(Y_pred, 0)\n",
        "cm = confusion_matrix(test_set.classes, y_pred)\n",
        "\n",
        "print(cm)\n",
        "target_names = ['Gandalf', 'Saruman']\n",
        "\n",
        "print(classification_report(test_set.classes, y_pred, target_names = target_names))\n",
        "\n",
        "cm_plot_labels = ['gandalfs','sarumans']    \n",
        "plot_confusion_matrix(cm=cm, classes=cm_plot_labels, title='Confusion Matrix')"
      ],
      "execution_count": null,
      "outputs": [
        {
          "output_type": "stream",
          "text": [
            "[[36  4]\n",
            " [ 4 36]]\n",
            "              precision    recall  f1-score   support\n",
            "\n",
            "     Gandalf       0.90      0.90      0.90        40\n",
            "     Saruman       0.90      0.90      0.90        40\n",
            "\n",
            "    accuracy                           0.90        80\n",
            "   macro avg       0.90      0.90      0.90        80\n",
            "weighted avg       0.90      0.90      0.90        80\n",
            "\n",
            "Confusion matrix, without normalization\n"
          ],
          "name": "stdout"
        },
        {
          "output_type": "display_data",
          "data": {
            "image/png": "[encoded data removed]",
            "text/plain": [
              "<Figure size 432x288 with 2 Axes>"
            ]
          },
          "metadata": {
            "tags": [],
            "needs_background": "light"
          }
        }
      ]
    },
    {
      "cell_type": "markdown",
      "metadata": {
        "id": "2cHvPrLXCpmb"
      },
      "source": [
        "# Model 2"
      ]
    },
    {
      "cell_type": "code",
      "metadata": {
        "id": "8rq1v7Kmjn2W"
      },
      "source": [
        "epochs = 25\n",
        "batch_size = 5\n",
        "input_shape = (180, 320, 3)"
      ],
      "execution_count": null,
      "outputs": []
    },
    {
      "cell_type": "code",
      "metadata": {
        "id": "LDTto6-wFHeZ"
      },
      "source": [
        "model = Sequential()\n",
        "\n",
        "model.add(Conv2D(32, (3, 3), input_shape = input_shape, activation = 'relu'))\n",
        "model.add(BatchNormalization())\n",
        "model.add(MaxPooling2D(pool_size = (2, 2)))\n",
        "model.add(Conv2D(32, (5, 5), activation = 'relu'))\n",
        "model.add(BatchNormalization())\n",
        "model.add(MaxPooling2D(pool_size = (2, 2)))\n",
        "\n",
        "model.add(Conv2D(64, (3, 3), activation = 'relu'))\n",
        "model.add(BatchNormalization())\n",
        "model.add(MaxPooling2D(pool_size = (2, 2)))\n",
        "\n",
        "model.add(Flatten())\n",
        "\n",
        "model.add(Dense(units = 128, activation = 'relu'))\n",
        "model.add(Dropout(0.1))\n",
        "model.add(Dense(units = 1, activation = 'sigmoid'))\n",
        "\n",
        "Adam = keras.optimizers.Adam(lr = 0.0001)\n",
        "model.compile(optimizer = Adam, loss = 'binary_crossentropy', metrics = ['accuracy'])"
      ],
      "execution_count": null,
      "outputs": []
    },
    {
      "cell_type": "code",
      "metadata": {
        "colab": {
          "base_uri": "https://localhost:8080/"
        },
        "id": "i7i5UEOONmaX",
        "outputId": "634155ac-a95c-4c15-f03a-c9cd0ad8cd0d"
      },
      "source": [
        "train_datagen = ImageDataGenerator(rescale=1/255,\n",
        "    shear_range=0.2,\n",
        "    zoom_range=0.2,\n",
        "    horizontal_flip=True,)\n",
        " #   validation_split=0.2) # Для модели с validation'ом\n",
        "\n",
        "train_generator = train_datagen.flow_from_directory(\n",
        "    '/content/gdrive/MyDrive/NeuralNetwork/Data/train',\n",
        "    target_size= input_shape[:2:],\n",
        "    batch_size = batch_size,\n",
        "    class_mode='binary',)\n",
        "#    subset='training') # Для модели с validation'ом\n",
        "\n",
        "# validation_generator = train_datagen.flow_from_directory(   # Модель с validation'омт\n",
        "#     '/content/gdrive/MyDrive/NeuralNetwork/Data/train', # same directory as training data\n",
        "#     target_size = input_shape[:2:],\n",
        "#     batch_size= batch_size,\n",
        "#     class_mode='binary',\n",
        "#     subset='validation') # set as validation data\n",
        "\n",
        "test_datagen = ImageDataGenerator(rescale=1/255)\n",
        "test_set = test_datagen.flow_from_directory(\n",
        "    '/content/gdrive/MyDrive/NeuralNetwork/Data/test',\n",
        "    target_size = input_shape[:2:],\n",
        "    batch_size = batch_size,\n",
        "    class_mode = 'binary',\n",
        "    shuffle = False\n",
        "    )\n",
        "print(train_generator.class_indices)"
      ],
      "execution_count": null,
      "outputs": [
        {
          "output_type": "stream",
          "text": [
            "Found 224 images belonging to 2 classes.\n",
            "Found 80 images belonging to 2 classes.\n",
            "{'gandalfs': 0, 'sarumans': 1}\n"
          ],
          "name": "stdout"
        }
      ]
    },
    {
      "cell_type": "code",
      "metadata": {
        "colab": {
          "base_uri": "https://localhost:8080/"
        },
        "id": "b99FaeYqG3SE",
        "outputId": "132f610f-3778-4501-e5e8-d56a0fcf55dd"
      },
      "source": [
        "start_time = time.clock()\n",
        "\n",
        "# model.fit(            # Модель с validation'ом\n",
        "#     train_generator,\n",
        "#     steps_per_epoch = train_generator.samples // batch_size,\n",
        "#     validation_data = validation_generator, \n",
        "#     validation_steps = validation_generator.samples // batch_size,\n",
        "#     epochs = epochs)\n",
        "\n",
        "model.fit(\n",
        "    train_generator,\n",
        "    steps_per_epoch = train_generator.samples // batch_size,\n",
        "    validation_data = test_set, \n",
        "    validation_steps = test_set.samples // batch_size,\n",
        "    epochs = epochs)\n",
        "\n",
        "end_time = time.clock()\n",
        "\n",
        "print(end_time - start_time, 'seconds')"
      ],
      "execution_count": null,
      "outputs": [
        {
          "output_type": "stream",
          "text": [
            "/usr/local/lib/python3.7/dist-packages/ipykernel_launcher.py:2: DeprecationWarning: time.clock has been deprecated in Python 3.3 and will be removed from Python 3.8: use time.perf_counter or time.process_time instead\n",
            "  \n"
          ],
          "name": "stderr"
        },
        {
          "output_type": "stream",
          "text": [
            "Epoch 1/25\n",
            "44/44 [==============================] - 30s 672ms/step - loss: 1.2670 - accuracy: 0.6596 - val_loss: 1.1511 - val_accuracy: 0.5000\n",
            "Epoch 2/25\n",
            "44/44 [==============================] - 29s 664ms/step - loss: 0.7416 - accuracy: 0.7459 - val_loss: 3.1408 - val_accuracy: 0.5000\n",
            "Epoch 3/25\n",
            "44/44 [==============================] - 29s 664ms/step - loss: 0.3329 - accuracy: 0.8550 - val_loss: 4.6283 - val_accuracy: 0.5000\n",
            "Epoch 4/25\n",
            "44/44 [==============================] - 29s 660ms/step - loss: 0.2814 - accuracy: 0.8706 - val_loss: 4.7072 - val_accuracy: 0.5000\n",
            "Epoch 5/25\n",
            "44/44 [==============================] - 29s 657ms/step - loss: 0.3386 - accuracy: 0.8425 - val_loss: 4.6533 - val_accuracy: 0.5000\n",
            "Epoch 6/25\n",
            "44/44 [==============================] - 29s 659ms/step - loss: 0.2080 - accuracy: 0.8902 - val_loss: 4.2373 - val_accuracy: 0.5000\n",
            "Epoch 7/25\n",
            "44/44 [==============================] - 29s 666ms/step - loss: 0.2078 - accuracy: 0.9312 - val_loss: 4.4606 - val_accuracy: 0.4625\n",
            "Epoch 8/25\n",
            "44/44 [==============================] - 29s 662ms/step - loss: 0.2769 - accuracy: 0.8776 - val_loss: 2.0996 - val_accuracy: 0.5625\n",
            "Epoch 9/25\n",
            "44/44 [==============================] - 29s 667ms/step - loss: 0.2217 - accuracy: 0.9411 - val_loss: 2.0222 - val_accuracy: 0.5500\n",
            "Epoch 10/25\n",
            "44/44 [==============================] - 29s 666ms/step - loss: 0.2485 - accuracy: 0.8951 - val_loss: 0.6867 - val_accuracy: 0.7250\n",
            "Epoch 11/25\n",
            "44/44 [==============================] - 29s 665ms/step - loss: 0.0891 - accuracy: 0.9575 - val_loss: 0.3756 - val_accuracy: 0.8625\n",
            "Epoch 12/25\n",
            "44/44 [==============================] - 29s 662ms/step - loss: 0.2080 - accuracy: 0.9110 - val_loss: 0.2798 - val_accuracy: 0.9000\n",
            "Epoch 13/25\n",
            "44/44 [==============================] - 29s 662ms/step - loss: 0.1006 - accuracy: 0.9680 - val_loss: 0.3431 - val_accuracy: 0.8750\n",
            "Epoch 14/25\n",
            "44/44 [==============================] - 29s 662ms/step - loss: 0.1074 - accuracy: 0.9744 - val_loss: 0.2950 - val_accuracy: 0.8625\n",
            "Epoch 15/25\n",
            "44/44 [==============================] - 29s 662ms/step - loss: 0.0787 - accuracy: 0.9550 - val_loss: 0.2176 - val_accuracy: 0.9375\n",
            "Epoch 16/25\n",
            "44/44 [==============================] - 29s 662ms/step - loss: 0.0421 - accuracy: 0.9811 - val_loss: 0.2192 - val_accuracy: 0.9375\n",
            "Epoch 17/25\n",
            "44/44 [==============================] - 29s 661ms/step - loss: 0.1810 - accuracy: 0.9432 - val_loss: 0.4450 - val_accuracy: 0.8625\n",
            "Epoch 18/25\n",
            "44/44 [==============================] - 29s 666ms/step - loss: 0.0837 - accuracy: 0.9776 - val_loss: 0.5087 - val_accuracy: 0.8250\n",
            "Epoch 19/25\n",
            "44/44 [==============================] - 30s 669ms/step - loss: 0.1530 - accuracy: 0.9502 - val_loss: 0.5195 - val_accuracy: 0.8750\n",
            "Epoch 20/25\n",
            "44/44 [==============================] - 29s 668ms/step - loss: 0.1516 - accuracy: 0.9470 - val_loss: 0.4014 - val_accuracy: 0.8500\n",
            "Epoch 21/25\n",
            "44/44 [==============================] - 29s 666ms/step - loss: 0.1840 - accuracy: 0.9317 - val_loss: 0.4259 - val_accuracy: 0.8125\n",
            "Epoch 22/25\n",
            "44/44 [==============================] - 29s 664ms/step - loss: 0.1018 - accuracy: 0.9600 - val_loss: 0.2799 - val_accuracy: 0.8750\n",
            "Epoch 23/25\n",
            "44/44 [==============================] - 30s 669ms/step - loss: 0.1571 - accuracy: 0.9618 - val_loss: 0.5181 - val_accuracy: 0.8625\n",
            "Epoch 24/25\n",
            "44/44 [==============================] - 29s 666ms/step - loss: 0.0241 - accuracy: 0.9905 - val_loss: 0.4419 - val_accuracy: 0.8750\n",
            "Epoch 25/25\n",
            "44/44 [==============================] - 29s 664ms/step - loss: 0.1680 - accuracy: 0.9323 - val_loss: 0.3634 - val_accuracy: 0.8875\n",
            "1378.2468330000002 seconds\n"
          ],
          "name": "stdout"
        },
        {
          "output_type": "stream",
          "text": [
            "/usr/local/lib/python3.7/dist-packages/ipykernel_launcher.py:18: DeprecationWarning: time.clock has been deprecated in Python 3.3 and will be removed from Python 3.8: use time.perf_counter or time.process_time instead\n"
          ],
          "name": "stderr"
        }
      ]
    },
    {
      "cell_type": "code",
      "metadata": {
        "colab": {
          "base_uri": "https://localhost:8080/",
          "height": 515
        },
        "id": "uy7QiH_8BP40",
        "outputId": "4db3bac6-83df-42f0-cc8b-239b46a6f4a8"
      },
      "source": [
        "Y_pred = model.predict(test_set, steps = test_set.samples // batch_size)\n",
        "y_pred = np.round(Y_pred, 0)\n",
        "cm = confusion_matrix(test_set.classes, y_pred)\n",
        "\n",
        "print(cm)\n",
        "target_names = ['Gandalf', 'Saruman']\n",
        "\n",
        "print(classification_report(test_set.classes, y_pred, target_names = target_names))\n",
        "\n",
        "cm_plot_labels = ['gandalfs','sarumans']    \n",
        "plot_confusion_matrix(cm=cm, classes=cm_plot_labels, title='Confusion Matrix')"
      ],
      "execution_count": null,
      "outputs": [
        {
          "output_type": "stream",
          "text": [
            "[[32  8]\n",
            " [ 1 39]]\n",
            "              precision    recall  f1-score   support\n",
            "\n",
            "     Gandalf       0.97      0.80      0.88        40\n",
            "     Saruman       0.83      0.97      0.90        40\n",
            "\n",
            "    accuracy                           0.89        80\n",
            "   macro avg       0.90      0.89      0.89        80\n",
            "weighted avg       0.90      0.89      0.89        80\n",
            "\n",
            "Confusion matrix, without normalization\n"
          ],
          "name": "stdout"
        },
        {
          "output_type": "display_data",
          "data": {
            "image/png": "[encoded data removed]",
            "text/plain": [
              "<Figure size 432x288 with 2 Axes>"
            ]
          },
          "metadata": {
            "tags": [],
            "needs_background": "light"
          }
        }
      ]
    },
    {
      "cell_type": "markdown",
      "metadata": {
        "id": "nX5RhaE4s4pj"
      },
      "source": [
        "# Model 3"
      ]
    },
    {
      "cell_type": "code",
      "metadata": {
        "id": "LvpA3F_ks4pk"
      },
      "source": [
        "epochs = 80\n",
        "batch_size = 10\n",
        "input_shape = (180, 320, 3)"
      ],
      "execution_count": null,
      "outputs": []
    },
    {
      "cell_type": "code",
      "metadata": {
        "id": "1VhobemNs4pk"
      },
      "source": [
        "model = Sequential()\n",
        "\n",
        "model.add(Conv2D(32, (3, 3), input_shape = input_shape, activation = 'relu'))\n",
        "model.add(BatchNormalization())\n",
        "model.add(MaxPooling2D(pool_size = (2, 2)))\n",
        "model.add(Conv2D(32, (5, 5), activation = 'relu'))\n",
        "model.add(BatchNormalization())\n",
        "model.add(MaxPooling2D(pool_size = (2, 2)))\n",
        "\n",
        "model.add(Conv2D(64, (3, 3), activation = 'relu'))\n",
        "model.add(BatchNormalization())\n",
        "model.add(MaxPooling2D(pool_size = (2, 2)))\n",
        "\n",
        "model.add(Flatten())\n",
        "\n",
        "model.add(Dense(units = 128, activation = 'relu'))\n",
        "model.add(Dropout(0.4))\n",
        "model.add(Dense(units = 1, activation = 'sigmoid'))\n",
        "\n",
        "Adam = keras.optimizers.Adam(lr = 0.0001)\n",
        "model.compile(optimizer = Adam, loss = 'binary_crossentropy', metrics = ['accuracy'])"
      ],
      "execution_count": null,
      "outputs": []
    },
    {
      "cell_type": "code",
      "metadata": {
        "colab": {
          "base_uri": "https://localhost:8080/"
        },
        "id": "V108Zrr7s4pk",
        "outputId": "19f4a05d-36f0-4458-928f-0c1b3c382601"
      },
      "source": [
        "train_datagen = ImageDataGenerator(rescale=1/255,\n",
        "    shear_range=0.2,\n",
        "    zoom_range=0.2,\n",
        "    horizontal_flip=True)\n",
        "\n",
        "train_generator = train_datagen.flow_from_directory(\n",
        "    '/content/gdrive/MyDrive/NeuralNetwork/Data/train',\n",
        "    target_size= input_shape[:2:],\n",
        "    batch_size = batch_size,\n",
        "    class_mode='binary')\n",
        "\n",
        "test_datagen = ImageDataGenerator(rescale=1/255)\n",
        "test_set = test_datagen.flow_from_directory(\n",
        "    '/content/gdrive/MyDrive/NeuralNetwork/Data/test',\n",
        "    target_size = input_shape[:2:],\n",
        "    batch_size = batch_size,\n",
        "    class_mode = 'binary',\n",
        "    shuffle = False)\n",
        "\n",
        "print(train_generator.class_indices)"
      ],
      "execution_count": null,
      "outputs": [
        {
          "output_type": "stream",
          "text": [
            "Found 224 images belonging to 2 classes.\n",
            "Found 80 images belonging to 2 classes.\n",
            "{'gandalfs': 0, 'sarumans': 1}\n"
          ],
          "name": "stdout"
        }
      ]
    },
    {
      "cell_type": "code",
      "metadata": {
        "id": "hI2wX6FpE_s0"
      },
      "source": [
        "start_time = time.clock()\n",
        "\n",
        "model.fit( # Модель с validation'ом\n",
        "train_generator,\n",
        "steps_per_epoch = train_generator.samples // batch_size,\n",
        "validation_data = validation_generator,\n",
        "validation_steps = validation_generator.samples // batch_size,\n",
        "epochs = epochs)\n",
        "model.fit( train_generator, steps_per_epoch = train_generator.samples // batch_size, validation_data = test_set, validation_steps = test_set.samples // batch_size, epochs = epochs)\n",
        "\n",
        "end_time = time.clock()\n",
        "\n",
        "print(end_time - start_time, 'seconds')"
      ],
      "execution_count": null,
      "outputs": []
    },
    {
      "cell_type": "code",
      "metadata": {
        "colab": {
          "base_uri": "https://localhost:8080/"
        },
        "id": "ABasni8ss4pl",
        "outputId": "4604e873-833f-4793-85ad-716c681befde"
      },
      "source": [
        "Y_pred = model.predict(test_set, steps = test_set.samples // batch_size)\n",
        "y_pred = np.round(Y_pred, 0)\n",
        "cm = confusion_matrix(test_set.classes, y_pred)\n",
        "\n",
        "print(cm)\n",
        "target_names = ['Gandalf', 'Saruman']\n",
        "\n",
        "print(classification_report(test_set.classes, y_pred, target_names = target_names))\n",
        "\n",
        "cm_plot_labels = ['gandalfs','sarumans']    \n",
        "plot_confusion_matrix(cm=cm, classes=cm_plot_labels, title='Confusion Matrix')"
      ],
      "execution_count": null,
      "outputs": [
        {
          "output_type": "stream",
          "text": [
            "[[34  6]\n",
            " [ 2 38]]\n",
            "              precision    recall  f1-score   support\n",
            "\n",
            "     Gandalf       0.94      0.85      0.89        40\n",
            "     Saruman       0.86      0.95      0.90        40\n",
            "\n",
            "    accuracy                           0.90        80\n",
            "   macro avg       0.90      0.90      0.90        80\n",
            "weighted avg       0.90      0.90      0.90        80\n",
            "\n",
            "Confusion matrix, without normalization\n"
          ],
          "name": "stdout"
        },
        {
          "output_type": "display_data",
          "data": {
            "image/png": "[encoded data removed]",
            "text/plain": [
              "<Figure size 432x288 with 2 Axes>"
            ]
          },
          "metadata": {
            "tags": [],
            "needs_background": "light"
          }
        }
      ]
    },
    {
      "cell_type": "code",
      "metadata": {
        "colab": {
          "base_uri": "https://localhost:8080/"
        },
        "id": "j5IsWyjt2JPj",
        "outputId": "2a1a8583-8760-45d6-f71e-77e8c338aa89"
      },
      "source": [
        "SVG(model_to_dot(model).create(prog='dot', format='svg'))"
      ],
      "execution_count": null,
      "outputs": [
        {
          "output_type": "execute_result",
          "data": {
            "text/plain": [
              "<IPython.core.display.SVG object>"
            ],
            "image/svg+xml": "<svg height=\"1325pt\" viewBox=\"0.00 0.00 279.00 994.00\" width=\"372pt\" xmlns=\"http://www.w3.org/2000/svg\" xmlns:xlink=\"http://www.w3.org/1999/xlink\">\n<g class=\"graph\" id=\"graph0\" transform=\"scale(1.3333 1.3333) rotate(0) translate(4 990)\">\n<title>G</title>\n<polygon fill=\"#ffffff\" points=\"-4,4 -4,-990 275,-990 275,4 -4,4\" stroke=\"transparent\"/>\n<!-- 140374334589520 -->\n<g class=\"node\" id=\"node1\">\n<title>140374334589520</title>\n<polygon fill=\"none\" points=\"43.5,-949.5 43.5,-985.5 227.5,-985.5 227.5,-949.5 43.5,-949.5\" stroke=\"#000000\"/>\n<text fill=\"#000000\" font-family=\"Times,serif\" font-size=\"14.00\" text-anchor=\"middle\" x=\"135.5\" y=\"-963.8\">conv2d_3_input: InputLayer</text>\n</g>\n<!-- 140374474790032 -->\n<g class=\"node\" id=\"node2\">\n<title>140374474790032</title>\n<polygon fill=\"none\" points=\"69,-876.5 69,-912.5 202,-912.5 202,-876.5 69,-876.5\" stroke=\"#000000\"/>\n<text fill=\"#000000\" font-family=\"Times,serif\" font-size=\"14.00\" text-anchor=\"middle\" x=\"135.5\" y=\"-890.8\">conv2d_3: Conv2D</text>\n</g>\n<!-- 140374334589520&#45;&gt;140374474790032 -->\n<g class=\"edge\" id=\"edge1\">\n<title>140374334589520-&gt;140374474790032</title>\n<path d=\"M135.5,-949.4551C135.5,-941.3828 135.5,-931.6764 135.5,-922.6817\" fill=\"none\" stroke=\"#000000\"/>\n<polygon fill=\"#000000\" points=\"139.0001,-922.5903 135.5,-912.5904 132.0001,-922.5904 139.0001,-922.5903\" stroke=\"#000000\"/>\n</g>\n<!-- 140374474792080 -->\n<g class=\"node\" id=\"node3\">\n<title>140374474792080</title>\n<polygon fill=\"none\" points=\"0,-803.5 0,-839.5 271,-839.5 271,-803.5 0,-803.5\" stroke=\"#000000\"/>\n<text fill=\"#000000\" font-family=\"Times,serif\" font-size=\"14.00\" text-anchor=\"middle\" x=\"135.5\" y=\"-817.8\">batch_normalization_3: BatchNormalization</text>\n</g>\n<!-- 140374474790032&#45;&gt;140374474792080 -->\n<g class=\"edge\" id=\"edge2\">\n<title>140374474790032-&gt;140374474792080</title>\n<path d=\"M135.5,-876.4551C135.5,-868.3828 135.5,-858.6764 135.5,-849.6817\" fill=\"none\" stroke=\"#000000\"/>\n<polygon fill=\"#000000\" points=\"139.0001,-849.5903 135.5,-839.5904 132.0001,-849.5904 139.0001,-849.5903\" stroke=\"#000000\"/>\n</g>\n<!-- 140374536728272 -->\n<g class=\"node\" id=\"node4\">\n<title>140374536728272</title>\n<polygon fill=\"none\" points=\"25,-730.5 25,-766.5 246,-766.5 246,-730.5 25,-730.5\" stroke=\"#000000\"/>\n<text fill=\"#000000\" font-family=\"Times,serif\" font-size=\"14.00\" text-anchor=\"middle\" x=\"135.5\" y=\"-744.8\">max_pooling2d_3: MaxPooling2D</text>\n</g>\n<!-- 140374474792080&#45;&gt;140374536728272 -->\n<g class=\"edge\" id=\"edge3\">\n<title>140374474792080-&gt;140374536728272</title>\n<path d=\"M135.5,-803.4551C135.5,-795.3828 135.5,-785.6764 135.5,-776.6817\" fill=\"none\" stroke=\"#000000\"/>\n<polygon fill=\"#000000\" points=\"139.0001,-776.5903 135.5,-766.5904 132.0001,-776.5904 139.0001,-776.5903\" stroke=\"#000000\"/>\n</g>\n<!-- 140374334597712 -->\n<g class=\"node\" id=\"node5\">\n<title>140374334597712</title>\n<polygon fill=\"none\" points=\"69,-657.5 69,-693.5 202,-693.5 202,-657.5 69,-657.5\" stroke=\"#000000\"/>\n<text fill=\"#000000\" font-family=\"Times,serif\" font-size=\"14.00\" text-anchor=\"middle\" x=\"135.5\" y=\"-671.8\">conv2d_4: Conv2D</text>\n</g>\n<!-- 140374536728272&#45;&gt;140374334597712 -->\n<g class=\"edge\" id=\"edge4\">\n<title>140374536728272-&gt;140374334597712</title>\n<path d=\"M135.5,-730.4551C135.5,-722.3828 135.5,-712.6764 135.5,-703.6817\" fill=\"none\" stroke=\"#000000\"/>\n<polygon fill=\"#000000\" points=\"139.0001,-703.5903 135.5,-693.5904 132.0001,-703.5904 139.0001,-703.5903\" stroke=\"#000000\"/>\n</g>\n<!-- 140374334672592 -->\n<g class=\"node\" id=\"node6\">\n<title>140374334672592</title>\n<polygon fill=\"none\" points=\"0,-584.5 0,-620.5 271,-620.5 271,-584.5 0,-584.5\" stroke=\"#000000\"/>\n<text fill=\"#000000\" font-family=\"Times,serif\" font-size=\"14.00\" text-anchor=\"middle\" x=\"135.5\" y=\"-598.8\">batch_normalization_4: BatchNormalization</text>\n</g>\n<!-- 140374334597712&#45;&gt;140374334672592 -->\n<g class=\"edge\" id=\"edge5\">\n<title>140374334597712-&gt;140374334672592</title>\n<path d=\"M135.5,-657.4551C135.5,-649.3828 135.5,-639.6764 135.5,-630.6817\" fill=\"none\" stroke=\"#000000\"/>\n<polygon fill=\"#000000\" points=\"139.0001,-630.5903 135.5,-620.5904 132.0001,-630.5904 139.0001,-630.5903\" stroke=\"#000000\"/>\n</g>\n<!-- 140374334598288 -->\n<g class=\"node\" id=\"node7\">\n<title>140374334598288</title>\n<polygon fill=\"none\" points=\"25,-511.5 25,-547.5 246,-547.5 246,-511.5 25,-511.5\" stroke=\"#000000\"/>\n<text fill=\"#000000\" font-family=\"Times,serif\" font-size=\"14.00\" text-anchor=\"middle\" x=\"135.5\" y=\"-525.8\">max_pooling2d_4: MaxPooling2D</text>\n</g>\n<!-- 140374334672592&#45;&gt;140374334598288 -->\n<g class=\"edge\" id=\"edge6\">\n<title>140374334672592-&gt;140374334598288</title>\n<path d=\"M135.5,-584.4551C135.5,-576.3828 135.5,-566.6764 135.5,-557.6817\" fill=\"none\" stroke=\"#000000\"/>\n<polygon fill=\"#000000\" points=\"139.0001,-557.5903 135.5,-547.5904 132.0001,-557.5904 139.0001,-557.5903\" stroke=\"#000000\"/>\n</g>\n<!-- 140374334595856 -->\n<g class=\"node\" id=\"node8\">\n<title>140374334595856</title>\n<polygon fill=\"none\" points=\"69,-438.5 69,-474.5 202,-474.5 202,-438.5 69,-438.5\" stroke=\"#000000\"/>\n<text fill=\"#000000\" font-family=\"Times,serif\" font-size=\"14.00\" text-anchor=\"middle\" x=\"135.5\" y=\"-452.8\">conv2d_5: Conv2D</text>\n</g>\n<!-- 140374334598288&#45;&gt;140374334595856 -->\n<g class=\"edge\" id=\"edge7\">\n<title>140374334598288-&gt;140374334595856</title>\n<path d=\"M135.5,-511.4551C135.5,-503.3828 135.5,-493.6764 135.5,-484.6817\" fill=\"none\" stroke=\"#000000\"/>\n<polygon fill=\"#000000\" points=\"139.0001,-484.5903 135.5,-474.5904 132.0001,-484.5904 139.0001,-484.5903\" stroke=\"#000000\"/>\n</g>\n<!-- 140374334641232 -->\n<g class=\"node\" id=\"node9\">\n<title>140374334641232</title>\n<polygon fill=\"none\" points=\"0,-365.5 0,-401.5 271,-401.5 271,-365.5 0,-365.5\" stroke=\"#000000\"/>\n<text fill=\"#000000\" font-family=\"Times,serif\" font-size=\"14.00\" text-anchor=\"middle\" x=\"135.5\" y=\"-379.8\">batch_normalization_5: BatchNormalization</text>\n</g>\n<!-- 140374334595856&#45;&gt;140374334641232 -->\n<g class=\"edge\" id=\"edge8\">\n<title>140374334595856-&gt;140374334641232</title>\n<path d=\"M135.5,-438.4551C135.5,-430.3828 135.5,-420.6764 135.5,-411.6817\" fill=\"none\" stroke=\"#000000\"/>\n<polygon fill=\"#000000\" points=\"139.0001,-411.5903 135.5,-401.5904 132.0001,-411.5904 139.0001,-411.5903\" stroke=\"#000000\"/>\n</g>\n<!-- 140374334222160 -->\n<g class=\"node\" id=\"node10\">\n<title>140374334222160</title>\n<polygon fill=\"none\" points=\"25,-292.5 25,-328.5 246,-328.5 246,-292.5 25,-292.5\" stroke=\"#000000\"/>\n<text fill=\"#000000\" font-family=\"Times,serif\" font-size=\"14.00\" text-anchor=\"middle\" x=\"135.5\" y=\"-306.8\">max_pooling2d_5: MaxPooling2D</text>\n</g>\n<!-- 140374334641232&#45;&gt;140374334222160 -->\n<g class=\"edge\" id=\"edge9\">\n<title>140374334641232-&gt;140374334222160</title>\n<path d=\"M135.5,-365.4551C135.5,-357.3828 135.5,-347.6764 135.5,-338.6817\" fill=\"none\" stroke=\"#000000\"/>\n<polygon fill=\"#000000\" points=\"139.0001,-338.5903 135.5,-328.5904 132.0001,-338.5904 139.0001,-338.5903\" stroke=\"#000000\"/>\n</g>\n<!-- 140374334268368 -->\n<g class=\"node\" id=\"node11\">\n<title>140374334268368</title>\n<polygon fill=\"none\" points=\"79,-219.5 79,-255.5 192,-255.5 192,-219.5 79,-219.5\" stroke=\"#000000\"/>\n<text fill=\"#000000\" font-family=\"Times,serif\" font-size=\"14.00\" text-anchor=\"middle\" x=\"135.5\" y=\"-233.8\">flatten_1: Flatten</text>\n</g>\n<!-- 140374334222160&#45;&gt;140374334268368 -->\n<g class=\"edge\" id=\"edge10\">\n<title>140374334222160-&gt;140374334268368</title>\n<path d=\"M135.5,-292.4551C135.5,-284.3828 135.5,-274.6764 135.5,-265.6817\" fill=\"none\" stroke=\"#000000\"/>\n<polygon fill=\"#000000\" points=\"139.0001,-265.5903 135.5,-255.5904 132.0001,-265.5904 139.0001,-265.5903\" stroke=\"#000000\"/>\n</g>\n<!-- 140374334709648 -->\n<g class=\"node\" id=\"node12\">\n<title>140374334709648</title>\n<polygon fill=\"none\" points=\"82,-146.5 82,-182.5 189,-182.5 189,-146.5 82,-146.5\" stroke=\"#000000\"/>\n<text fill=\"#000000\" font-family=\"Times,serif\" font-size=\"14.00\" text-anchor=\"middle\" x=\"135.5\" y=\"-160.8\">dense_2: Dense</text>\n</g>\n<!-- 140374334268368&#45;&gt;140374334709648 -->\n<g class=\"edge\" id=\"edge11\">\n<title>140374334268368-&gt;140374334709648</title>\n<path d=\"M135.5,-219.4551C135.5,-211.3828 135.5,-201.6764 135.5,-192.6817\" fill=\"none\" stroke=\"#000000\"/>\n<polygon fill=\"#000000\" points=\"139.0001,-192.5903 135.5,-182.5904 132.0001,-192.5904 139.0001,-192.5903\" stroke=\"#000000\"/>\n</g>\n<!-- 140374537237776 -->\n<g class=\"node\" id=\"node13\">\n<title>140374537237776</title>\n<polygon fill=\"none\" points=\"68.5,-73.5 68.5,-109.5 202.5,-109.5 202.5,-73.5 68.5,-73.5\" stroke=\"#000000\"/>\n<text fill=\"#000000\" font-family=\"Times,serif\" font-size=\"14.00\" text-anchor=\"middle\" x=\"135.5\" y=\"-87.8\">dropout_1: Dropout</text>\n</g>\n<!-- 140374334709648&#45;&gt;140374537237776 -->\n<g class=\"edge\" id=\"edge12\">\n<title>140374334709648-&gt;140374537237776</title>\n<path d=\"M135.5,-146.4551C135.5,-138.3828 135.5,-128.6764 135.5,-119.6817\" fill=\"none\" stroke=\"#000000\"/>\n<polygon fill=\"#000000\" points=\"139.0001,-119.5903 135.5,-109.5904 132.0001,-119.5904 139.0001,-119.5903\" stroke=\"#000000\"/>\n</g>\n<!-- 140374334708880 -->\n<g class=\"node\" id=\"node14\">\n<title>140374334708880</title>\n<polygon fill=\"none\" points=\"82,-.5 82,-36.5 189,-36.5 189,-.5 82,-.5\" stroke=\"#000000\"/>\n<text fill=\"#000000\" font-family=\"Times,serif\" font-size=\"14.00\" text-anchor=\"middle\" x=\"135.5\" y=\"-14.8\">dense_3: Dense</text>\n</g>\n<!-- 140374537237776&#45;&gt;140374334708880 -->\n<g class=\"edge\" id=\"edge13\">\n<title>140374537237776-&gt;140374334708880</title>\n<path d=\"M135.5,-73.4551C135.5,-65.3828 135.5,-55.6764 135.5,-46.6817\" fill=\"none\" stroke=\"#000000\"/>\n<polygon fill=\"#000000\" points=\"139.0001,-46.5903 135.5,-36.5904 132.0001,-46.5904 139.0001,-46.5903\" stroke=\"#000000\"/>\n</g>\n</g>\n</svg>"
          },
          "metadata": {
            "tags": []
          },
          "execution_count": 19
        }
      ]
    }
  ]
}