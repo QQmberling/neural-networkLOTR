{
 "cells": [
  {
   "cell_type": "markdown",
   "id": "outside-massachusetts",
   "metadata": {},
   "source": [
    "Вывод черно-белого изображения из обычного + сохранение его при нажатии S."
   ]
  },
  {
   "cell_type": "code",
   "execution_count": 3,
   "id": "tracked-edition",
   "metadata": {},
   "outputs": [],
   "source": [
    "import cv2\n",
    "img = cv2.imread('1.jpg', cv2.IMREAD_GRAYSCALE)\n",
    "cv2.imshow('1', img)\n",
    "k = cv2.waitKey(0)\n",
    "cv2.destroyAllWindows()\n",
    "if k == ord(\"s\"):\n",
    "    cv2.imwrite('Gray1.jpg', img)"
   ]
  },
  {
   "cell_type": "code",
   "execution_count": 4,
   "id": "historical-school",
   "metadata": {},
   "outputs": [],
   "source": [
    "import cv2\n",
    "img = cv2.imread('1.jpg')\n",
    "cv2.imshow('1', img)\n",
    "k = cv2.waitKey(0)\n",
    "cv2.destroyAllWindows()"
   ]
  },
  {
   "cell_type": "markdown",
   "id": "nutritional-pencil",
   "metadata": {},
   "source": [
    "Размер, количество каналов, данные RGB."
   ]
  },
  {
   "cell_type": "code",
   "execution_count": 5,
   "id": "military-japanese",
   "metadata": {},
   "outputs": [
    {
     "name": "stdout",
     "output_type": "stream",
     "text": [
      "\n",
      "\n",
      "====================\n",
      "Высота:1080\n",
      "Ширина:1920\n",
      "Количество каналов:3\n",
      "====================\n",
      "\n",
      "\n",
      "====================\n",
      "Красный: 38, Зелёный: 52, Синий: 87\n",
      "Далее идет как бы отредактированный пиксель \n",
      "Красный: 0, Зелёный: 0, Синий: 255\n",
      "====================\n"
     ]
    }
   ],
   "source": [
    "import cv2\n",
    "\n",
    "img = cv2.imread('1.jpg')\n",
    "\n",
    "print('\\n\\n====================')\n",
    "print(\"Высота:\"+str(img.shape[0]))\n",
    "print(\"Ширина:\" + str(img.shape[1]))\n",
    "print(\"Количество каналов:\" + str(img.shape[2]))\n",
    "print('====================\\n\\n')\n",
    "print('====================')\n",
    "(b, g, r) = img[250, 250]\n",
    "print(\"Красный: {}, Зелёный: {}, Синий: {}\".format(r, g, b))\n",
    "img[250, 250] = (255, 0, 0)\n",
    "(b, g, r) = img[250, 250]\n",
    "print(\"Далее идет как бы отредактированный пиксель \\nКрасный: {}, Зелёный: {}, Синий: {}\".format(r, g, b))\n",
    "print('====================')"
   ]
  },
  {
   "cell_type": "markdown",
   "id": "social-geometry",
   "metadata": {},
   "source": [
    "Примеры различных методов numpy массивов."
   ]
  },
  {
   "cell_type": "code",
   "execution_count": 89,
   "id": "pursuant-fight",
   "metadata": {},
   "outputs": [
    {
     "name": "stdout",
     "output_type": "stream",
     "text": [
      "[[1 1 1]\n",
      " [1 1 1]\n",
      " [1 1 1]]\n",
      "1)  (3, 3)  - Форма матрицы\n",
      "2)  9  - Количество элементов в массиве\n",
      "3)  2  - Количество измерений массива\n",
      "4)  int32  - Тип данных каждого элемента матрицы\n",
      "5)  4  - Размер каждого элемента матрицы\n",
      "6)  <memory at 0x0000027A577BDD40>  - Размер каждого элемента матрицы\n",
      "7)  9  - Сумма всех элементов массива\n",
      "8)  1  - Максимальный\n",
      "9)  1  - Минимальный\n"
     ]
    }
   ],
   "source": [
    "import numpy as np\n",
    "kernel = np.array([[1,1,1], [1,1,1], [1,1,1]])\n",
    "print(kernel)\n",
    "print('1) ', kernel.shape, ' - Форма матрицы')\n",
    "print('2) ', kernel.size, ' - Количество элементов в массиве')\n",
    "print('3) ', kernel.ndim, ' - Количество измерений массива')\n",
    "print('4) ', kernel.dtype, ' - Тип данных каждого элемента матрицы')\n",
    "print('5) ', kernel.itemsize, ' - Размер каждого элемента матрицы')\n",
    "print('6) ', kernel.data, ' - Размер каждого элемента матрицы')\n",
    "print('7) ', kernel.sum(), ' - Сумма всех элементов массива')\n",
    "print('8) ', kernel.max(), ' - Максимальный')\n",
    "print('9) ', kernel.min(), ' - Минимальный')"
   ]
  },
  {
   "cell_type": "markdown",
   "id": "positive-columbia",
   "metadata": {},
   "source": [
    "Пробуем умножить массив картинки на фильтр."
   ]
  },
  {
   "cell_type": "code",
   "execution_count": 2,
   "id": "outdoor-steal",
   "metadata": {},
   "outputs": [
    {
     "name": "stdout",
     "output_type": "stream",
     "text": [
      "(1080, 1920, 3)\n"
     ]
    }
   ],
   "source": [
    "import numpy as np\n",
    "import cv2\n",
    "img = cv2.imread('1.jpg')\n",
    "#cv2.imshow('1', img)\n",
    "#k = cv2.waitKey(0)\n",
    "#cv2.destroyAllWindows()\n",
    "kernel = np.array([[1,1,1], [1,1,1], [1,1,1]])\n",
    "\n",
    "print(img.shape)"
   ]
  },
  {
   "cell_type": "code",
   "execution_count": 1,
   "id": "quantitative-verse",
   "metadata": {},
   "outputs": [
    {
     "name": "stdout",
     "output_type": "stream",
     "text": [
      "[[1 2 3]\n",
      " [4 5 6]\n",
      " [7 8 9]]\n",
      "[[0 0 0 0 0]\n",
      " [0 1 2 3 0]\n",
      " [0 4 5 6 0]\n",
      " [0 7 8 9 0]\n",
      " [0 0 0 0 0]]\n"
     ]
    }
   ],
   "source": [
    "import numpy as np\n",
    "import cv2\n",
    "img = cv2.imread('1.jpg')\n",
    "\n",
    "\n",
    "#print(img[3][3][0])\n",
    "kernel = np.array([[1,2,3], [4,5,6], [7,8,9]])\n",
    "#print(kernel[2][2])\n",
    "#img[3][3][0] = img[3][3][0] * kernel[2][2]\n",
    "#print(img[3][3][0])\n",
    "\n",
    "print(kernel)\n",
    "\n",
    "#kernel = kernel.reshape(4,4)\n",
    "copy = np.zeros((img.shape[0]+2, img.shape[1]+2, img.shape[2]), int)\n",
    "a = np.zeros((kernel.shape[0]+2, kernel.shape[1]+2), int)\n",
    "for i in range(kernel.shape[0]):\n",
    "    for j in range(kernel.shape[1]):\n",
    "        a[i+1][j+1] = kernel[i][j]\n",
    "        \n",
    "        \n",
    "print(a)\n",
    "\n"
   ]
  },
  {
   "cell_type": "code",
   "execution_count": null,
   "id": "latter-validity",
   "metadata": {},
   "outputs": [],
   "source": []
  },
  {
   "cell_type": "code",
   "execution_count": 15,
   "id": "about-compiler",
   "metadata": {},
   "outputs": [],
   "source": [
    "import numpy as np\n",
    "import cv2\n",
    "img = cv2.imread('5.jpg')\n",
    "b, g, r = cv2.split(img)\n",
    "\n",
    "#kernel = np.array([(-1,-2,-1), (-2,22,-2), (-1,-2,-1)])*(1/10)\n",
    "#kernel = np.array([(0,0,0), (0,1,0), (0,0,0)])\n",
    "#kernel = np.array([(1,2,1), (2,4,2), (1,2,1)])*(1/16)\n",
    "kernel = np.array([(-1,-1,-1), (-1,9,-1), (-1,-1,-1)])*(1/9)\n",
    "\n",
    "height = img.shape[0]\n",
    "width = img.shape[1]\n",
    "heightkernel = kernel.shape[0]\n",
    "widthkernel = kernel.shape[1]\n",
    "\n",
    "bimg = np.zeros((b.shape[0]+2, b.shape[1]+2))\n",
    "gimg = np.zeros((g.shape[0]+2, g.shape[1]+2))\n",
    "rimg = np.zeros((r.shape[0]+2, r.shape[1]+2))\n",
    "\n",
    "for i in range(img.shape[0]):\n",
    "    for j in range(img.shape[1]):\n",
    "        bimg[i+1][j+1] = b[i][j]\n",
    "        gimg[i+1][j+1] = g[i][j]\n",
    "        rimg[i+1][j+1] = r[i][j]\n",
    "\n",
    "for h in range(height):\n",
    "    for w in range(width):\n",
    "        partb = bimg[h:h+heightkernel, w:w+widthkernel]\n",
    "        partg = gimg[h:h+heightkernel, w:w+widthkernel]\n",
    "        partr = rimg[h:h+heightkernel, w:w+widthkernel]\n",
    "        sumb = np.sum(partb*kernel)\n",
    "        sumg = np.sum(partg*kernel)\n",
    "        sumr = np.sum(partr*kernel)\n",
    "        bimg[h][w] = sumb\n",
    "        gimg[h][w] = sumg\n",
    "        rimg[h][w] = sumr\n",
    " \n",
    "\n",
    "bimg = bimg.astype('uint8')\n",
    "gimg = gimg.astype('uint8')\n",
    "rimg = rimg.astype('uint8')\n",
    "\n",
    "       \n",
    "grb = np.dstack((gimg,rimg,bimg))\n",
    "gbr = np.dstack((gimg,bimg,rimg))\n",
    "bgr = np.dstack((bimg,gimg,rimg))\n",
    "brg = np.dstack((bimg,rimg,gimg))\n",
    "rgb = np.dstack((rimg,gimg,bimg))\n",
    "rbg = np.dstack((rimg,bimg,gimg))\n",
    "\n",
    "cv2.imshow('img', img)\n",
    "cv2.imshow('grb', grb)\n",
    "cv2.imshow('gbr', gbr)\n",
    "cv2.imshow('bgr', bgr)\n",
    "cv2.imshow('brg', brg)\n",
    "cv2.imshow('rgb', rgb)\n",
    "cv2.imshow('rbg', rbg)\n",
    "k = cv2.waitKey(0)\n",
    "cv2.destroyAllWindows()\n"
   ]
  },
  {
   "cell_type": "code",
   "execution_count": 8,
   "id": "pressing-correspondence",
   "metadata": {},
   "outputs": [],
   "source": [
    "import numpy as np\n",
    "import cv2\n",
    "img = cv2.imread('5.jpg', cv2.IMREAD_GRAYSCALE)\n",
    "\n",
    "\n",
    "kernel = np.array([(-1,-2,-1), (-2,22,-2), (-1,-2,-1)])*(1/10)\n",
    "#kernel = np.array([(0,0,0), (0,1,0), (0,0,0)])\n",
    "#kernel = np.array([(1,2,1), (2,4,2), (1,2,1)])*(1/16)\n",
    "#kernel = np.array([(-1,-1,-1), (-1,9,-1), (-1,-1,-1)])*(1/9)\n",
    "\n",
    "height = img.shape[0]\n",
    "width = img.shape[1]\n",
    "heightkernel = kernel.shape[0]\n",
    "widthkernel = kernel.shape[1]\n",
    "\n",
    "bimg = np.zeros((img.shape[0]+2, img.shape[1]+2))\n",
    "\n",
    "for i in range(img.shape[0]):\n",
    "    for j in range(img.shape[1]):\n",
    "        bimg[i+1][j+1] = img[i][j]\n",
    "\n",
    "for h in range(height):\n",
    "    for w in range(width):\n",
    "        partb = bimg[h:h+heightkernel, w:w+widthkernel]\n",
    "        sumb = np.sum(partb*kernel)\n",
    "        bimg[h][w] = sumb\n",
    "\n",
    "\n",
    "bimg = bimg.astype('uint8')\n",
    "\n",
    "cv2.imshow('img', img)\n",
    "cv2.imshow('bimg', bimg)\n",
    "\n",
    "k = cv2.waitKey(0)\n",
    "cv2.destroyAllWindows()"
   ]
  },
  {
   "cell_type": "code",
   "execution_count": 14,
   "id": "played-vampire",
   "metadata": {},
   "outputs": [],
   "source": [
    "import numpy as np\n",
    "import cv2\n",
    "\n",
    "def applykern(kernel):\n",
    "    img = cv2.imread('5.jpg')\n",
    "    b, g, r = cv2.split(img)\n",
    "    \n",
    "    height = img.shape[0]\n",
    "    width = img.shape[1]\n",
    "    heightkernel = kernel.shape[0]\n",
    "    widthkernel = kernel.shape[1]\n",
    "    \n",
    "    bimg = np.zeros((b.shape[0]+2, b.shape[1]+2))\n",
    "    gimg = np.zeros((g.shape[0]+2, g.shape[1]+2))\n",
    "    rimg = np.zeros((r.shape[0]+2, r.shape[1]+2))\n",
    "\n",
    "    for i in range(img.shape[0]):\n",
    "        for j in range(img.shape[1]):\n",
    "            bimg[i+1][j+1] = b[i][j]\n",
    "            gimg[i+1][j+1] = g[i][j]\n",
    "            rimg[i+1][j+1] = r[i][j]\n",
    "\n",
    "    for h in range(height):\n",
    "        for w in range(width):\n",
    "            partb = bimg[h:h+heightkernel, w:w+widthkernel]\n",
    "            partg = gimg[h:h+heightkernel, w:w+widthkernel]\n",
    "            partr = rimg[h:h+heightkernel, w:w+widthkernel]\n",
    "            sumb = np.sum(partb*kernel)\n",
    "            sumg = np.sum(partg*kernel)\n",
    "            sumr = np.sum(partr*kernel)\n",
    "            bimg[h][w] = sumb\n",
    "            gimg[h][w] = sumg\n",
    "            rimg[h][w] = sumr\n",
    "            \n",
    "    bimg = bimg.astype('uint8')\n",
    "    gimg = gimg.astype('uint8')\n",
    "    rimg = rimg.astype('uint8')\n",
    "\n",
    "    bgr = np.dstack((bimg,gimg,rimg))\n",
    "\n",
    "    cv2.imshow('img', img)\n",
    "    cv2.imshow('bgr', bgr)\n",
    "\n",
    "    k = cv2.waitKey(0)\n",
    "    cv2.destroyAllWindows()\n",
    "       \n",
    "#kernel = np.array([(-1,-2,-1), (-2,22,-2), (-1,-2,-1)])*(1/10)\n",
    "#kernel = np.array([(0,0,0), (0,1,0), (0,0,0)])\n",
    "kernel = np.array([(1,2,1), (2,4,2), (1,2,1)])*(1/16)  #Нормальное распределение\n",
    "#kernel = np.array([(-1,-1,-1), (-1,9,-1), (-1,-1,-1)])*(1/9)\n",
    "\n",
    "applykern(kernel)\n"
   ]
  },
  {
   "cell_type": "code",
   "execution_count": null,
   "id": "athletic-monitor",
   "metadata": {},
   "outputs": [],
   "source": [
    "#from PIL import Image\n",
    "#image = Image.open('1.jpg')\n",
    "#image.show()"
   ]
  }
 ],
 "metadata": {
  "kernelspec": {
   "display_name": "Python 3",
   "language": "python",
   "name": "python3"
  },
  "language_info": {
   "codemirror_mode": {
    "name": "ipython",
    "version": 3
   },
   "file_extension": ".py",
   "mimetype": "text/x-python",
   "name": "python",
   "nbconvert_exporter": "python",
   "pygments_lexer": "ipython3",
   "version": "3.8.8"
  }
 },
 "nbformat": 4,
 "nbformat_minor": 5
}
